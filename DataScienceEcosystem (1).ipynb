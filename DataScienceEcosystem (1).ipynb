{
 "cells": [
  {
   "cell_type": "markdown",
   "id": "4e3cf610-06ef-4c9a-baa1-33791bba5efd",
   "metadata": {},
   "source": [
    "# Data Science Tools and Ecosystem"
   ]
  },
  {
   "cell_type": "markdown",
   "id": "0315b788-7537-41d9-9a0e-9dce769e7cf1",
   "metadata": {},
   "source": [
    "##### In this notebook, Data Science Tools and Ecosystem are summarized. different exercises will be developed, listing different libraries, tools, simple arithmetic exercises will be solved using python."
   ]
  },
  {
   "cell_type": "markdown",
   "id": "78620f14-5290-4dc4-bee7-bb80bdf80e6f",
   "metadata": {},
   "source": [
    "## Exercise 10 - Insert a markdown cell to list Objectives\n",
    "\n",
    "Objectives:\n",
    "\n",
    "- List popular languages for Data Science\n",
    "- Identify commonly used Data Science libraries\n",
    "- Explore different open-source Data Science tools\n",
    "- Perform basic arithmetic operations in Python\n",
    "- Understand the process of converting units in Python\n"
   ]
  },
  {
   "cell_type": "markdown",
   "id": "9951ace0-55dd-42c7-8ed6-a2a8fb5d681d",
   "metadata": {},
   "source": [
    "## Exercise 4 - Create a markdown cell to list data science languages\n",
    "\n",
    "\n",
    "Some of the popular languages that Data Scientists use are:\n",
    "1. Julia\n",
    "2. R\n",
    "3. SQL\n",
    "4. Python"
   ]
  },
  {
   "cell_type": "markdown",
   "id": "4451af58-7d9a-4fb9-88fc-ce39f532ebd0",
   "metadata": {},
   "source": [
    "## Exercise 5 - Create a markdown cell to list data science libraries\n",
    "\n",
    "Some of the commonly used libraries used by Data Scientists include:\n",
    "\n",
    "1. Pandas\n",
    "2. NumPy\n",
    "3. TensorFlow\n",
    "4. Matpltlib\n"
   ]
  },
  {
   "cell_type": "markdown",
   "id": "87ac4526-7048-4e04-bfc3-d181012d7de4",
   "metadata": {},
   "source": [
    "## Exercise 6 - Create a markdown cell with a table of Data Science tools\n",
    "\n",
    "\n",
    "| **Data Science Tools** |\n",
    "|------------------------|\n",
    "|Jupyter Notebook|\n",
    "|RStudio|\n",
    "|Apache Zeppelin|\n"
   ]
  },
  {
   "cell_type": "markdown",
   "id": "409b8428-349a-4566-9867-100597cbf057",
   "metadata": {},
   "source": [
    "## Exercise 7 - Create a markdown cell introducing arithmetic expression examples\n",
    "\n",
    "Below are a few examples of evaluating arithmetic expressions in Python:\n",
    "\n",
    "1. Addition\n",
    "    5+5=8\n",
    "   \n",
    "3. Subtraction\n",
    "    5-5=0\n",
    "   \n",
    "5. Multiplication\n",
    "    5*5=25\n",
    "   \n",
    "7. Division\n",
    "    5/5=1\n",
    "   \n",
    "9. Parentheses and other operation\n",
    "    (5+5*(3-4))= -10\n",
    "    "
   ]
  },
  {
   "cell_type": "markdown",
   "id": "37006d85-92b5-4d3a-9535-2aebd235aa2a",
   "metadata": {},
   "source": [
    "## Exercise 8 - Create a code cell to multiply and add numbers\n"
   ]
  },
  {
   "cell_type": "code",
   "execution_count": 14,
   "id": "eeb8542d-7a0f-4ed4-bdfe-240688cce160",
   "metadata": {},
   "outputs": [
    {
     "data": {
      "text/plain": [
       "17"
      ]
     },
     "execution_count": 14,
     "metadata": {},
     "output_type": "execute_result"
    }
   ],
   "source": [
    "# This a simple arithmetic expression to mutiply then add integers\n",
    "(3*4)+5"
   ]
  },
  {
   "cell_type": "markdown",
   "id": "ed0773d2-619a-46a0-91d9-d947eb71969f",
   "metadata": {},
   "source": [
    "## Exercise 9 - Create a code cell to convert minutes to hours"
   ]
  },
  {
   "cell_type": "code",
   "execution_count": 17,
   "id": "0d0edc78-9e67-4c44-90b3-2cffac4317e2",
   "metadata": {},
   "outputs": [
    {
     "data": {
      "text/plain": [
       "3.3333333333333335"
      ]
     },
     "execution_count": 17,
     "metadata": {},
     "output_type": "execute_result"
    }
   ],
   "source": [
    "#This will convert 200 minutes to hours by diving by 60\n",
    "200/60"
   ]
  },
  {
   "cell_type": "markdown",
   "id": "2b982a2f-7243-4bdb-8b5a-517f23afd132",
   "metadata": {},
   "source": [
    "## Exercise 11 - Create a markdown cell to indicate the Author's name\n",
    "\n",
    "### Author\n",
    "###### Francisca Zúñiga"
   ]
  },
  {
   "cell_type": "code",
   "execution_count": null,
   "id": "b8f32df9-775d-4fca-99a8-6a456de79404",
   "metadata": {},
   "outputs": [],
   "source": []
  }
 ],
 "metadata": {
  "kernelspec": {
   "display_name": "Python 3 (ipykernel)",
   "language": "python",
   "name": "python3"
  },
  "language_info": {
   "codemirror_mode": {
    "name": "ipython",
    "version": 3
   },
   "file_extension": ".py",
   "mimetype": "text/x-python",
   "name": "python",
   "nbconvert_exporter": "python",
   "pygments_lexer": "ipython3",
   "version": "3.12.7"
  }
 },
 "nbformat": 4,
 "nbformat_minor": 5
}
